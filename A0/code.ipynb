{
  "nbformat": 4,
  "nbformat_minor": 0,
  "metadata": {
    "colab": {
      "name": "DMG.ipynb",
      "provenance": [],
      "collapsed_sections": []
    },
    "kernelspec": {
      "name": "python3",
      "display_name": "Python 3"
    },
    "language_info": {
      "name": "python"
    }
  },
  "cells": [
    {
      "cell_type": "code",
      "metadata": {
        "id": "2JR8dTWJLFXm"
      },
      "source": [
        "import numpy as np\n",
        "import pandas as pd\n",
        "from matplotlib import pyplot as plt"
      ],
      "execution_count": 167,
      "outputs": []
    },
    {
      "cell_type": "code",
      "metadata": {
        "id": "u-2OYvDdoGxY"
      },
      "source": [
        "import json\n",
        "import csv\n",
        "\n",
        "with open('states_daily.json') as json_file:\n",
        "    data = json.load(json_file)\n",
        "\n",
        "\n",
        "covid_data = data['states_daily']\n",
        " \n",
        "data_file = open('data_file.csv', 'w')\n",
        "\n",
        "csv_writer = csv.writer(data_file)\n",
        " \n",
        "count = 0\n",
        " \n",
        "for x in covid_data:\n",
        "    if count == 0:\n",
        " \n",
        "        header = x.keys()\n",
        "        csv_writer.writerow(header)\n",
        "        count += 1\n",
        " \n",
        "    csv_writer.writerow(x.values())\n",
        " \n",
        "data_file.close()"
      ],
      "execution_count": 168,
      "outputs": []
    },
    {
      "cell_type": "code",
      "metadata": {
        "id": "G_rHw026pZcW"
      },
      "source": [
        "covid = pd.read_csv('data_file.csv')"
      ],
      "execution_count": 169,
      "outputs": []
    },
    {
      "cell_type": "code",
      "metadata": {
        "id": "Y3i7Tp2Kp1Bs"
      },
      "source": [
        "covid = pd.DataFrame(covid, columns=[\"date\",\"dateymd\",\"status\",\"tt\",\"an\",\"ap\",\"ar\",\"as\",\"br\",\"ch\",\"ct\",\"dd\",\"dl\",\"dn\",\"ga\",\"gj\",\"hp\",\"hr\",\"jh\",\"jk\",\"ka\",\"kl\",\"la\",\"ld\",\"mh\",\"ml\",\"mn\",\"mp\",\"mz\",\"nl\",\"or\",\"pb\",\"py\",\"rj\",\"sk\",\"tg\",\"tn\",\"tr\",\"un\",\"up\",\"ut\",\"wb\"])"
      ],
      "execution_count": 170,
      "outputs": []
    },
    {
      "cell_type": "code",
      "metadata": {
        "id": "C_7NM29nevIX"
      },
      "source": [
        "uts = ['dl','an','dn','cg','ld','py','la','jk']"
      ],
      "execution_count": 171,
      "outputs": []
    },
    {
      "cell_type": "markdown",
      "metadata": {
        "id": "kzgfGGGxTVR3"
      },
      "source": [
        "#Question 1.1"
      ]
    },
    {
      "cell_type": "code",
      "metadata": {
        "id": "MzbVsspIB7SN"
      },
      "source": [
        "con = result[(result['status'] == \"Confirmed\")]['tt'].sum()"
      ],
      "execution_count": 172,
      "outputs": []
    },
    {
      "cell_type": "code",
      "metadata": {
        "id": "qJ6Y0ZqObowC"
      },
      "source": [
        "rec = result[(result['status'] == \"Recovered\")]['tt'].sum()"
      ],
      "execution_count": 173,
      "outputs": []
    },
    {
      "cell_type": "code",
      "metadata": {
        "id": "76sMBbgnb1nu"
      },
      "source": [
        "dec = result[(result['status'] == \"Deceased\t\")]['tt'].sum()"
      ],
      "execution_count": 174,
      "outputs": []
    },
    {
      "cell_type": "code",
      "metadata": {
        "id": "n57FJ05bcFMz",
        "colab": {
          "base_uri": "https://localhost:8080/"
        },
        "outputId": "6f794268-238c-496b-c428-4cd8eda9d9e2"
      },
      "source": [
        "print(\"Confirmed : {}\".format(con) +\", \"+ \"Recovered : {}\".format(rec)+\", \"+\"Deceased : {}\".format(dec) )\n"
      ],
      "execution_count": 175,
      "outputs": [
        {
          "output_type": "stream",
          "name": "stdout",
          "text": [
            "Confirmed : 3985115, Recovered : 3851085, Deceased : 0\n"
          ]
        }
      ]
    },
    {
      "cell_type": "markdown",
      "metadata": {
        "id": "I17iljWuTfHO"
      },
      "source": [
        "#Question 1.2"
      ]
    },
    {
      "cell_type": "code",
      "metadata": {
        "id": "YNzK5J9odliF"
      },
      "source": [
        "con_dl = result[(result['status'] == \"Confirmed\")]['dl'].sum()"
      ],
      "execution_count": 176,
      "outputs": []
    },
    {
      "cell_type": "code",
      "metadata": {
        "id": "wF6Nn_Bfdl0t"
      },
      "source": [
        "rec_dl = result[(result['status'] == \"Recovered\")]['dl'].sum()\n"
      ],
      "execution_count": 177,
      "outputs": []
    },
    {
      "cell_type": "code",
      "metadata": {
        "id": "n4T5o2P7drPh"
      },
      "source": [
        "dec_dl = result[(result['status'] == \"Deceased\t\")]['dl'].sum()"
      ],
      "execution_count": 178,
      "outputs": []
    },
    {
      "cell_type": "code",
      "metadata": {
        "id": "grydU3ozg-EE",
        "colab": {
          "base_uri": "https://localhost:8080/"
        },
        "outputId": "0979fe2f-3fe0-401a-8409-e90f987a4fad"
      },
      "source": [
        "print(\"Delhi Confirmed : {}\".format(con_dl) +\", \"+ \"Recovered : {}\".format(rec_dl)+\", \"+\"Deceased : {}\".format(dec_dl) )"
      ],
      "execution_count": 179,
      "outputs": [
        {
          "output_type": "stream",
          "name": "stdout",
          "text": [
            "Delhi Confirmed : 186202, Recovered : 176254, Deceased : 0\n"
          ]
        }
      ]
    },
    {
      "cell_type": "code",
      "metadata": {
        "id": "MytgnjFXhKFc"
      },
      "source": [
        "con_mh = result[(result['status'] == \"Confirmed\")]['mh'].sum()"
      ],
      "execution_count": 180,
      "outputs": []
    },
    {
      "cell_type": "code",
      "metadata": {
        "id": "Clmfg8oChGQg"
      },
      "source": [
        "rec_mh = result[(result['status'] == \"Recovered\")]['mh'].sum()"
      ],
      "execution_count": 181,
      "outputs": []
    },
    {
      "cell_type": "code",
      "metadata": {
        "id": "Eyk69DKCjT7o"
      },
      "source": [
        "dec_mh = result[(result['status'] == \"Deceased\t\")]['mh'].sum()"
      ],
      "execution_count": 182,
      "outputs": []
    },
    {
      "cell_type": "code",
      "metadata": {
        "id": "91vmFPDBjULv",
        "colab": {
          "base_uri": "https://localhost:8080/"
        },
        "outputId": "f5d84354-3064-4a14-cd23-98ade58377ad"
      },
      "source": [
        "print(\"Maharashtra Confirmed : {}\".format(con_mh) +\", \"+ \"Recovered : {}\".format(rec_mh)+\", \"+\"Deceased : {}\".format(dec_mh) )"
      ],
      "execution_count": 183,
      "outputs": [
        {
          "output_type": "stream",
          "name": "stdout",
          "text": [
            "Maharashtra Confirmed : 776020, Recovered : 771786, Deceased : 0\n"
          ]
        }
      ]
    },
    {
      "cell_type": "code",
      "metadata": {
        "id": "KRYWboCJjpgg"
      },
      "source": [
        "con_wb = result[(result['status'] == \"Confirmed\")]['wb'].sum()"
      ],
      "execution_count": 184,
      "outputs": []
    },
    {
      "cell_type": "code",
      "metadata": {
        "id": "X0fds_CKjprx"
      },
      "source": [
        "rec_wb = result[(result['status'] == \"Recovered\")]['wb'].sum()"
      ],
      "execution_count": 185,
      "outputs": []
    },
    {
      "cell_type": "code",
      "metadata": {
        "id": "3dwyLh5hjp1l"
      },
      "source": [
        "dec_wb = result[(result['status'] == \"Deceased\t\")]['wb'].sum()"
      ],
      "execution_count": 186,
      "outputs": []
    },
    {
      "cell_type": "code",
      "metadata": {
        "id": "R4qVbA_vjp_I",
        "colab": {
          "base_uri": "https://localhost:8080/"
        },
        "outputId": "b3f732a9-f881-4e99-ceec-dfbe8ac8c875"
      },
      "source": [
        "print(\"West Bengal Confirmed : {}\".format(con_wb) +\", \"+ \"Recovered : {}\".format(rec_wb)+\", \"+\"Deceased : {}\".format(dec_wb) )"
      ],
      "execution_count": 187,
      "outputs": [
        {
          "output_type": "stream",
          "name": "stdout",
          "text": [
            "West Bengal Confirmed : 191975, Recovered : 169305, Deceased : 0\n"
          ]
        }
      ]
    },
    {
      "cell_type": "code",
      "metadata": {
        "id": "X7vHNgW9kI3I"
      },
      "source": [
        "con_tn = result[(result['status'] == \"Confirmed\")]['tn'].sum()"
      ],
      "execution_count": 188,
      "outputs": []
    },
    {
      "cell_type": "code",
      "metadata": {
        "id": "NHxuOd0ukJCi"
      },
      "source": [
        "rec_tn = result[(result['status'] == \"Recovered\")]['tn'].sum()"
      ],
      "execution_count": 189,
      "outputs": []
    },
    {
      "cell_type": "code",
      "metadata": {
        "id": "7eYrw-I2kJJL"
      },
      "source": [
        "dec_tn = result[(result['status'] == \"Deceased\t\")]['tn'].sum()"
      ],
      "execution_count": 190,
      "outputs": []
    },
    {
      "cell_type": "code",
      "metadata": {
        "id": "E-mawLKqkJTH",
        "colab": {
          "base_uri": "https://localhost:8080/"
        },
        "outputId": "43f2a24c-9e11-48f4-9a6a-95759658fa51"
      },
      "source": [
        "print(\"Tamil Nadu Confirmed : {}\".format(con_tn) +\", \"+ \"Recovered : {}\".format(rec_tn)+\", \"+\"Deceased : {}\".format(dec_tn) )"
      ],
      "execution_count": 191,
      "outputs": [
        {
          "output_type": "stream",
          "name": "stdout",
          "text": [
            "Tamil Nadu Confirmed : 313324, Recovered : 289304, Deceased : 0\n"
          ]
        }
      ]
    },
    {
      "cell_type": "markdown",
      "metadata": {
        "id": "euLjTuAa9GdC"
      },
      "source": [
        "#Question 1.3"
      ]
    },
    {
      "cell_type": "code",
      "metadata": {
        "id": "aWp37y1ewGFE"
      },
      "source": [
        "Covid = pd.DataFrame(covid, columns=[\"date\",\"dateymd\",\"status\",\"tt\",\"an\",\"ap\",\"ar\",\"as\",\"br\",\"ch\",\"ct\",\"dd\",\"dl\",\"dn\",\"ga\",\"gj\",\"hp\",\"hr\",\"jh\",\"jk\",\"ka\",\"kl\",\"la\",\"ld\",\"mh\",\"ml\",\"mn\",\"mp\",\"mz\",\"nl\",\"or\",\"pb\",\"py\",\"rj\",\"sk\",\"tg\",\"tn\",\"tr\",\"un\",\"up\",\"ut\",\"wb\"])"
      ],
      "execution_count": 192,
      "outputs": []
    },
    {
      "cell_type": "code",
      "metadata": {
        "id": "M5UBv7Ka7xcP"
      },
      "source": [
        "Confi = Covid[(Covid['status'] == \"Confirmed\")]"
      ],
      "execution_count": 193,
      "outputs": []
    },
    {
      "cell_type": "code",
      "metadata": {
        "id": "G7Kuo1ScLh_9"
      },
      "source": [
        "Confi = Confi.iloc[:,4:]"
      ],
      "execution_count": 194,
      "outputs": []
    },
    {
      "cell_type": "code",
      "metadata": {
        "id": "G1yh_kZd-TQj"
      },
      "source": [
        "temp_rate = pd.DataFrame(columns = ['State','confirm_cases'])"
      ],
      "execution_count": 195,
      "outputs": []
    },
    {
      "cell_type": "code",
      "metadata": {
        "id": "sCDJy6do83kn"
      },
      "source": [
        "for (columnName, columnData) in Confi.iteritems():\n",
        "  state = columnName\n",
        "  if state in uts :\n",
        "    continue\n",
        "  con_cases = columnData.values.sum()\n",
        "  temp_rate = temp_rate.append({'State':state,'confirm_cases':con_cases},ignore_index = True)\n"
      ],
      "execution_count": 196,
      "outputs": []
    },
    {
      "cell_type": "code",
      "metadata": {
        "id": "EphcRk9R-EQe"
      },
      "source": [
        "Confi = Covid[(Covid['status'] == \"Recovered\")]"
      ],
      "execution_count": 197,
      "outputs": []
    },
    {
      "cell_type": "code",
      "metadata": {
        "id": "XONCnSguLScK"
      },
      "source": [
        "Confi = Confi.iloc[:,4:]"
      ],
      "execution_count": 198,
      "outputs": []
    },
    {
      "cell_type": "code",
      "metadata": {
        "id": "MsjIcZKZDsGA"
      },
      "source": [
        "recovery_rate = pd.DataFrame(columns = ['State','Recovery_rate'])"
      ],
      "execution_count": 199,
      "outputs": []
    },
    {
      "cell_type": "code",
      "metadata": {
        "id": "l49iukGhAsnO"
      },
      "source": [
        "i=0\n",
        "for (columnName, columnData) in Confi.iteritems():\n",
        "  state = columnName\n",
        "  if state in uts :\n",
        "    continue\n",
        "  rec_cases = columnData.values.sum()\n",
        "  act_cases = temp_rate.iloc[i]['confirm_cases']\n",
        "  if(act_cases == 0):\n",
        "    rate = 0.0\n",
        "  else:\n",
        "    rate = rec_cases/act_cases\n",
        "  i=i+1\n",
        "  recovery_rate = recovery_rate.append({'State':state,'Recovery_rate':rate},ignore_index = True)"
      ],
      "execution_count": 200,
      "outputs": []
    },
    {
      "cell_type": "code",
      "metadata": {
        "id": "AZbbxOtADY2P"
      },
      "source": [
        "high_rate = recovery_rate.sort_values(by=['Recovery_rate'], ascending=False)"
      ],
      "execution_count": 201,
      "outputs": []
    },
    {
      "cell_type": "code",
      "metadata": {
        "id": "80L0tUE4Dqoi"
      },
      "source": [
        "highest_rate = high_rate.iloc[0:10, :]"
      ],
      "execution_count": 202,
      "outputs": []
    },
    {
      "cell_type": "code",
      "metadata": {
        "id": "nHe8j8ibIto1",
        "colab": {
          "base_uri": "https://localhost:8080/",
          "height": 359
        },
        "outputId": "e258b5f9-3256-4357-cb21-128f6fe279df"
      },
      "source": [
        "highest_rate"
      ],
      "execution_count": 203,
      "outputs": [
        {
          "output_type": "execute_result",
          "data": {
            "text/html": [
              "<div>\n",
              "<style scoped>\n",
              "    .dataframe tbody tr th:only-of-type {\n",
              "        vertical-align: middle;\n",
              "    }\n",
              "\n",
              "    .dataframe tbody tr th {\n",
              "        vertical-align: top;\n",
              "    }\n",
              "\n",
              "    .dataframe thead th {\n",
              "        text-align: right;\n",
              "    }\n",
              "</style>\n",
              "<table border=\"1\" class=\"dataframe\">\n",
              "  <thead>\n",
              "    <tr style=\"text-align: right;\">\n",
              "      <th></th>\n",
              "      <th>State</th>\n",
              "      <th>Recovery_rate</th>\n",
              "    </tr>\n",
              "  </thead>\n",
              "  <tbody>\n",
              "    <tr>\n",
              "      <th>22</th>\n",
              "      <td>rj</td>\n",
              "      <td>0.990425</td>\n",
              "    </tr>\n",
              "    <tr>\n",
              "      <th>8</th>\n",
              "      <td>gj</td>\n",
              "      <td>0.987567</td>\n",
              "    </tr>\n",
              "    <tr>\n",
              "      <th>17</th>\n",
              "      <td>mp</td>\n",
              "      <td>0.986606</td>\n",
              "    </tr>\n",
              "    <tr>\n",
              "      <th>10</th>\n",
              "      <td>hr</td>\n",
              "      <td>0.986592</td>\n",
              "    </tr>\n",
              "    <tr>\n",
              "      <th>28</th>\n",
              "      <td>up</td>\n",
              "      <td>0.986422</td>\n",
              "    </tr>\n",
              "    <tr>\n",
              "      <th>3</th>\n",
              "      <td>br</td>\n",
              "      <td>0.986407</td>\n",
              "    </tr>\n",
              "    <tr>\n",
              "      <th>4</th>\n",
              "      <td>ch</td>\n",
              "      <td>0.986233</td>\n",
              "    </tr>\n",
              "    <tr>\n",
              "      <th>5</th>\n",
              "      <td>ct</td>\n",
              "      <td>0.985370</td>\n",
              "    </tr>\n",
              "    <tr>\n",
              "      <th>11</th>\n",
              "      <td>jh</td>\n",
              "      <td>0.984637</td>\n",
              "    </tr>\n",
              "    <tr>\n",
              "      <th>0</th>\n",
              "      <td>ap</td>\n",
              "      <td>0.984519</td>\n",
              "    </tr>\n",
              "  </tbody>\n",
              "</table>\n",
              "</div>"
            ],
            "text/plain": [
              "   State  Recovery_rate\n",
              "22    rj       0.990425\n",
              "8     gj       0.987567\n",
              "17    mp       0.986606\n",
              "10    hr       0.986592\n",
              "28    up       0.986422\n",
              "3     br       0.986407\n",
              "4     ch       0.986233\n",
              "5     ct       0.985370\n",
              "11    jh       0.984637\n",
              "0     ap       0.984519"
            ]
          },
          "metadata": {},
          "execution_count": 203
        }
      ]
    },
    {
      "cell_type": "code",
      "metadata": {
        "id": "crbDsw5rI6iv"
      },
      "source": [
        "low_rate = recovery_rate.sort_values(by=['Recovery_rate'])"
      ],
      "execution_count": 204,
      "outputs": []
    },
    {
      "cell_type": "code",
      "metadata": {
        "id": "-J0Ce24mJQXm"
      },
      "source": [
        "lowest_rate = low_rate.iloc[0:10, :]"
      ],
      "execution_count": 205,
      "outputs": []
    },
    {
      "cell_type": "code",
      "metadata": {
        "id": "nlrHFQ4oJQoP",
        "colab": {
          "base_uri": "https://localhost:8080/",
          "height": 359
        },
        "outputId": "91ddc810-eb10-4c33-dfbb-54da16e684c2"
      },
      "source": [
        "lowest_rate"
      ],
      "execution_count": 206,
      "outputs": [
        {
          "output_type": "execute_result",
          "data": {
            "text/html": [
              "<div>\n",
              "<style scoped>\n",
              "    .dataframe tbody tr th:only-of-type {\n",
              "        vertical-align: middle;\n",
              "    }\n",
              "\n",
              "    .dataframe tbody tr th {\n",
              "        vertical-align: top;\n",
              "    }\n",
              "\n",
              "    .dataframe thead th {\n",
              "        text-align: right;\n",
              "    }\n",
              "</style>\n",
              "<table border=\"1\" class=\"dataframe\">\n",
              "  <thead>\n",
              "    <tr style=\"text-align: right;\">\n",
              "      <th></th>\n",
              "      <th>State</th>\n",
              "      <th>Recovery_rate</th>\n",
              "    </tr>\n",
              "  </thead>\n",
              "  <tbody>\n",
              "    <tr>\n",
              "      <th>6</th>\n",
              "      <td>dd</td>\n",
              "      <td>0.000000</td>\n",
              "    </tr>\n",
              "    <tr>\n",
              "      <th>27</th>\n",
              "      <td>un</td>\n",
              "      <td>0.000000</td>\n",
              "    </tr>\n",
              "    <tr>\n",
              "      <th>18</th>\n",
              "      <td>mz</td>\n",
              "      <td>0.813923</td>\n",
              "    </tr>\n",
              "    <tr>\n",
              "      <th>23</th>\n",
              "      <td>sk</td>\n",
              "      <td>0.905324</td>\n",
              "    </tr>\n",
              "    <tr>\n",
              "      <th>19</th>\n",
              "      <td>nl</td>\n",
              "      <td>0.912305</td>\n",
              "    </tr>\n",
              "    <tr>\n",
              "      <th>16</th>\n",
              "      <td>mn</td>\n",
              "      <td>0.926487</td>\n",
              "    </tr>\n",
              "    <tr>\n",
              "      <th>15</th>\n",
              "      <td>ml</td>\n",
              "      <td>0.929457</td>\n",
              "    </tr>\n",
              "    <tr>\n",
              "      <th>13</th>\n",
              "      <td>kl</td>\n",
              "      <td>0.948274</td>\n",
              "    </tr>\n",
              "    <tr>\n",
              "      <th>1</th>\n",
              "      <td>ar</td>\n",
              "      <td>0.959448</td>\n",
              "    </tr>\n",
              "    <tr>\n",
              "      <th>29</th>\n",
              "      <td>ut</td>\n",
              "      <td>0.959831</td>\n",
              "    </tr>\n",
              "  </tbody>\n",
              "</table>\n",
              "</div>"
            ],
            "text/plain": [
              "   State  Recovery_rate\n",
              "6     dd       0.000000\n",
              "27    un       0.000000\n",
              "18    mz       0.813923\n",
              "23    sk       0.905324\n",
              "19    nl       0.912305\n",
              "16    mn       0.926487\n",
              "15    ml       0.929457\n",
              "13    kl       0.948274\n",
              "1     ar       0.959448\n",
              "29    ut       0.959831"
            ]
          },
          "metadata": {},
          "execution_count": 206
        }
      ]
    },
    {
      "cell_type": "markdown",
      "metadata": {
        "id": "FcQ4DBaRKeUi"
      },
      "source": [
        "#Question 1.4"
      ]
    },
    {
      "cell_type": "code",
      "metadata": {
        "id": "52S3-3ZsJ5Nz"
      },
      "source": [
        "Confi = Covid[(Covid['status'] == \"Confirmed\")]"
      ],
      "execution_count": 207,
      "outputs": []
    },
    {
      "cell_type": "code",
      "metadata": {
        "id": "ee8V-v6GKpSq"
      },
      "source": [
        "Confi = Confi.iloc[:,4:]"
      ],
      "execution_count": 208,
      "outputs": []
    },
    {
      "cell_type": "code",
      "metadata": {
        "id": "kxqzSP6_L1wW"
      },
      "source": [
        "confirmed_df = pd.DataFrame(columns = ['State','confirm_cases'])\n",
        "for (columnName, columnData) in Confi.iteritems():\n",
        "  state = columnName\n",
        "  if state in uts :\n",
        "    continue\n",
        "  con_cases = columnData.values.sum()\n",
        "  confirmed_df = confirmed_df.append({'State':state,'confirm_cases':con_cases},ignore_index = True)\n"
      ],
      "execution_count": 209,
      "outputs": []
    },
    {
      "cell_type": "code",
      "metadata": {
        "id": "uwm8QexqL104"
      },
      "source": [
        "confirmed_df = confirmed_df.sort_values(by=['confirm_cases'], ascending=False)"
      ],
      "execution_count": 210,
      "outputs": []
    },
    {
      "cell_type": "code",
      "metadata": {
        "id": "whBVJYENL14u"
      },
      "source": [
        "highest_affected = confirmed_df.iloc[0:3, :]"
      ],
      "execution_count": 211,
      "outputs": []
    },
    {
      "cell_type": "code",
      "metadata": {
        "id": "PCF0A4l5L19o",
        "colab": {
          "base_uri": "https://localhost:8080/",
          "height": 142
        },
        "outputId": "5794c539-a023-4cd9-b314-d3b7b79bd6cc"
      },
      "source": [
        "highest_affected"
      ],
      "execution_count": 212,
      "outputs": [
        {
          "output_type": "execute_result",
          "data": {
            "text/html": [
              "<div>\n",
              "<style scoped>\n",
              "    .dataframe tbody tr th:only-of-type {\n",
              "        vertical-align: middle;\n",
              "    }\n",
              "\n",
              "    .dataframe tbody tr th {\n",
              "        vertical-align: top;\n",
              "    }\n",
              "\n",
              "    .dataframe thead th {\n",
              "        text-align: right;\n",
              "    }\n",
              "</style>\n",
              "<table border=\"1\" class=\"dataframe\">\n",
              "  <thead>\n",
              "    <tr style=\"text-align: right;\">\n",
              "      <th></th>\n",
              "      <th>State</th>\n",
              "      <th>confirm_cases</th>\n",
              "    </tr>\n",
              "  </thead>\n",
              "  <tbody>\n",
              "    <tr>\n",
              "      <th>14</th>\n",
              "      <td>mh</td>\n",
              "      <td>6396805</td>\n",
              "    </tr>\n",
              "    <tr>\n",
              "      <th>13</th>\n",
              "      <td>kl</td>\n",
              "      <td>3702417</td>\n",
              "    </tr>\n",
              "    <tr>\n",
              "      <th>12</th>\n",
              "      <td>ka</td>\n",
              "      <td>2930529</td>\n",
              "    </tr>\n",
              "  </tbody>\n",
              "</table>\n",
              "</div>"
            ],
            "text/plain": [
              "   State confirm_cases\n",
              "14    mh       6396805\n",
              "13    kl       3702417\n",
              "12    ka       2930529"
            ]
          },
          "metadata": {},
          "execution_count": 212
        }
      ]
    },
    {
      "cell_type": "code",
      "metadata": {
        "id": "Yk3I5fS5OYMh",
        "colab": {
          "base_uri": "https://localhost:8080/",
          "height": 142
        },
        "outputId": "2e52992b-f02a-4ea9-95d0-8ce4dcc8acd1"
      },
      "source": [
        "Confi = Covid[(Covid['status'] == \"Recovered\")]\n",
        "Confi = Confi.iloc[:,4:]\n",
        "recovered_df = pd.DataFrame(columns = ['State','recover_cases'])\n",
        "for (columnName, columnData) in Confi.iteritems():\n",
        "  state = columnName\n",
        "  if state in uts :\n",
        "    continue\n",
        "  rec_cases = columnData.values.sum()\n",
        "  recovered_df = recovered_df.append({'State':state,'recover_cases':rec_cases},ignore_index = True)\n",
        "recovered_df = recovered_df.sort_values(by=['recover_cases'], ascending=False)\n",
        "Rec_highest_affected = recovered_df.iloc[0:3, :]\n",
        "Rec_highest_affected"
      ],
      "execution_count": 213,
      "outputs": [
        {
          "output_type": "execute_result",
          "data": {
            "text/html": [
              "<div>\n",
              "<style scoped>\n",
              "    .dataframe tbody tr th:only-of-type {\n",
              "        vertical-align: middle;\n",
              "    }\n",
              "\n",
              "    .dataframe tbody tr th {\n",
              "        vertical-align: top;\n",
              "    }\n",
              "\n",
              "    .dataframe thead th {\n",
              "        text-align: right;\n",
              "    }\n",
              "</style>\n",
              "<table border=\"1\" class=\"dataframe\">\n",
              "  <thead>\n",
              "    <tr style=\"text-align: right;\">\n",
              "      <th></th>\n",
              "      <th>State</th>\n",
              "      <th>recover_cases</th>\n",
              "    </tr>\n",
              "  </thead>\n",
              "  <tbody>\n",
              "    <tr>\n",
              "      <th>14</th>\n",
              "      <td>mh</td>\n",
              "      <td>6195744</td>\n",
              "    </tr>\n",
              "    <tr>\n",
              "      <th>13</th>\n",
              "      <td>kl</td>\n",
              "      <td>3510904</td>\n",
              "    </tr>\n",
              "    <tr>\n",
              "      <th>12</th>\n",
              "      <td>ka</td>\n",
              "      <td>2871449</td>\n",
              "    </tr>\n",
              "  </tbody>\n",
              "</table>\n",
              "</div>"
            ],
            "text/plain": [
              "   State recover_cases\n",
              "14    mh       6195744\n",
              "13    kl       3510904\n",
              "12    ka       2871449"
            ]
          },
          "metadata": {},
          "execution_count": 213
        }
      ]
    },
    {
      "cell_type": "code",
      "metadata": {
        "id": "c32is7DAL2jU",
        "colab": {
          "base_uri": "https://localhost:8080/",
          "height": 142
        },
        "outputId": "01fb86ff-a1ad-4b74-95cb-43674dc1dd44"
      },
      "source": [
        "Confi = Covid[(Covid['status'] == \"Deceased\")]\n",
        "Confi = Confi.iloc[:,4:]\n",
        "deceased_df = pd.DataFrame(columns = ['State','dec_cases'])\n",
        "for (columnName, columnData) in Confi.iteritems():\n",
        "  state = columnName\n",
        "  if state in uts :\n",
        "    continue\n",
        "  ddec_cases = columnData.values.sum()\n",
        "  deceased_df = deceased_df.append({'State':state,'dec_cases':ddec_cases},ignore_index = True)\n",
        "deceased_df = deceased_df.sort_values(by=['dec_cases'], ascending=False)\n",
        "Dec_highest_affected = deceased_df.iloc[0:3, :]\n",
        "Dec_highest_affected"
      ],
      "execution_count": 214,
      "outputs": [
        {
          "output_type": "execute_result",
          "data": {
            "text/html": [
              "<div>\n",
              "<style scoped>\n",
              "    .dataframe tbody tr th:only-of-type {\n",
              "        vertical-align: middle;\n",
              "    }\n",
              "\n",
              "    .dataframe tbody tr th {\n",
              "        vertical-align: top;\n",
              "    }\n",
              "\n",
              "    .dataframe thead th {\n",
              "        text-align: right;\n",
              "    }\n",
              "</style>\n",
              "<table border=\"1\" class=\"dataframe\">\n",
              "  <thead>\n",
              "    <tr style=\"text-align: right;\">\n",
              "      <th></th>\n",
              "      <th>State</th>\n",
              "      <th>dec_cases</th>\n",
              "    </tr>\n",
              "  </thead>\n",
              "  <tbody>\n",
              "    <tr>\n",
              "      <th>14</th>\n",
              "      <td>mh</td>\n",
              "      <td>135138</td>\n",
              "    </tr>\n",
              "    <tr>\n",
              "      <th>12</th>\n",
              "      <td>ka</td>\n",
              "      <td>37014</td>\n",
              "    </tr>\n",
              "    <tr>\n",
              "      <th>25</th>\n",
              "      <td>tn</td>\n",
              "      <td>34547</td>\n",
              "    </tr>\n",
              "  </tbody>\n",
              "</table>\n",
              "</div>"
            ],
            "text/plain": [
              "   State dec_cases\n",
              "14    mh    135138\n",
              "12    ka     37014\n",
              "25    tn     34547"
            ]
          },
          "metadata": {},
          "execution_count": 214
        }
      ]
    },
    {
      "cell_type": "markdown",
      "metadata": {
        "id": "Zut6TUoXRzwq"
      },
      "source": [
        "#Question 1.5"
      ]
    },
    {
      "cell_type": "code",
      "metadata": {
        "id": "SQ2ymO70R9n_",
        "colab": {
          "base_uri": "https://localhost:8080/",
          "height": 142
        },
        "outputId": "43e22a93-42ea-49f0-e4dc-7c24f4261d26"
      },
      "source": [
        "Confi = Covid[(Covid['status'] == \"Confirmed\")]\n",
        "Confi = Confi.iloc[:,4:]\n",
        "confirmed_df = pd.DataFrame(columns = ['State','confirm_cases'])\n",
        "for (columnName, columnData) in Confi.iteritems():\n",
        "  state = columnName\n",
        "  if state in uts :\n",
        "    continue\n",
        "  con_cases = columnData.values.sum()\n",
        "  confirmed_df = confirmed_df.append({'State':state,'confirm_cases':con_cases},ignore_index = True)\n",
        "confirmed_df = confirmed_df.sort_values(by=['confirm_cases'])\n",
        "lowest_affected = confirmed_df.iloc[0:3, :]\n",
        "lowest_affected"
      ],
      "execution_count": 215,
      "outputs": [
        {
          "output_type": "execute_result",
          "data": {
            "text/html": [
              "<div>\n",
              "<style scoped>\n",
              "    .dataframe tbody tr th:only-of-type {\n",
              "        vertical-align: middle;\n",
              "    }\n",
              "\n",
              "    .dataframe tbody tr th {\n",
              "        vertical-align: top;\n",
              "    }\n",
              "\n",
              "    .dataframe thead th {\n",
              "        text-align: right;\n",
              "    }\n",
              "</style>\n",
              "<table border=\"1\" class=\"dataframe\">\n",
              "  <thead>\n",
              "    <tr style=\"text-align: right;\">\n",
              "      <th></th>\n",
              "      <th>State</th>\n",
              "      <th>confirm_cases</th>\n",
              "    </tr>\n",
              "  </thead>\n",
              "  <tbody>\n",
              "    <tr>\n",
              "      <th>27</th>\n",
              "      <td>un</td>\n",
              "      <td>0</td>\n",
              "    </tr>\n",
              "    <tr>\n",
              "      <th>6</th>\n",
              "      <td>dd</td>\n",
              "      <td>0</td>\n",
              "    </tr>\n",
              "    <tr>\n",
              "      <th>23</th>\n",
              "      <td>sk</td>\n",
              "      <td>28740</td>\n",
              "    </tr>\n",
              "  </tbody>\n",
              "</table>\n",
              "</div>"
            ],
            "text/plain": [
              "   State confirm_cases\n",
              "27    un             0\n",
              "6     dd             0\n",
              "23    sk         28740"
            ]
          },
          "metadata": {},
          "execution_count": 215
        }
      ]
    },
    {
      "cell_type": "code",
      "metadata": {
        "id": "gYxIVT4BL2nS",
        "colab": {
          "base_uri": "https://localhost:8080/",
          "height": 142
        },
        "outputId": "d5a8c586-6274-436e-824d-574c972f7cb2"
      },
      "source": [
        "Confi = Covid[(Covid['status'] == \"Recovered\")]\n",
        "Confi = Confi.iloc[:,4:]\n",
        "recovered_df = pd.DataFrame(columns = ['State','recover_cases'])\n",
        "for (columnName, columnData) in Confi.iteritems():\n",
        "  state = columnName\n",
        "  if state in uts :\n",
        "    continue\n",
        "  rec_cases = columnData.values.sum()\n",
        "  recovered_df = recovered_df.append({'State':state,'recover_cases':rec_cases},ignore_index = True)\n",
        "recovered_df = recovered_df.sort_values(by=['recover_cases'])\n",
        "Rec_lowest_affected = recovered_df.iloc[0:3, :]\n",
        "Rec_lowest_affected"
      ],
      "execution_count": 216,
      "outputs": [
        {
          "output_type": "execute_result",
          "data": {
            "text/html": [
              "<div>\n",
              "<style scoped>\n",
              "    .dataframe tbody tr th:only-of-type {\n",
              "        vertical-align: middle;\n",
              "    }\n",
              "\n",
              "    .dataframe tbody tr th {\n",
              "        vertical-align: top;\n",
              "    }\n",
              "\n",
              "    .dataframe thead th {\n",
              "        text-align: right;\n",
              "    }\n",
              "</style>\n",
              "<table border=\"1\" class=\"dataframe\">\n",
              "  <thead>\n",
              "    <tr style=\"text-align: right;\">\n",
              "      <th></th>\n",
              "      <th>State</th>\n",
              "      <th>recover_cases</th>\n",
              "    </tr>\n",
              "  </thead>\n",
              "  <tbody>\n",
              "    <tr>\n",
              "      <th>27</th>\n",
              "      <td>un</td>\n",
              "      <td>0</td>\n",
              "    </tr>\n",
              "    <tr>\n",
              "      <th>6</th>\n",
              "      <td>dd</td>\n",
              "      <td>0</td>\n",
              "    </tr>\n",
              "    <tr>\n",
              "      <th>23</th>\n",
              "      <td>sk</td>\n",
              "      <td>26019</td>\n",
              "    </tr>\n",
              "  </tbody>\n",
              "</table>\n",
              "</div>"
            ],
            "text/plain": [
              "   State recover_cases\n",
              "27    un             0\n",
              "6     dd             0\n",
              "23    sk         26019"
            ]
          },
          "metadata": {},
          "execution_count": 216
        }
      ]
    },
    {
      "cell_type": "code",
      "metadata": {
        "id": "GsHhVUz3SgQd",
        "colab": {
          "base_uri": "https://localhost:8080/",
          "height": 142
        },
        "outputId": "f4f69409-a8d2-46e3-9d87-af7389ec9ffe"
      },
      "source": [
        "Confi = Covid[(Covid['status'] == \"Deceased\")]\n",
        "Confi = Confi.iloc[:,4:]\n",
        "deceased_df = pd.DataFrame(columns = ['State','dec_cases'])\n",
        "for (columnName, columnData) in Confi.iteritems():\n",
        "  state = columnName\n",
        "  if state in uts :\n",
        "    continue\n",
        "  ddec_cases = columnData.values.sum()\n",
        "  deceased_df = deceased_df.append({'State':state,'dec_cases':ddec_cases},ignore_index = True)\n",
        "deceased_df = deceased_df.sort_values(by=['dec_cases'])\n",
        "Dec_lowest_affected = deceased_df.iloc[0:3, :]\n",
        "Dec_lowest_affected"
      ],
      "execution_count": 217,
      "outputs": [
        {
          "output_type": "execute_result",
          "data": {
            "text/html": [
              "<div>\n",
              "<style scoped>\n",
              "    .dataframe tbody tr th:only-of-type {\n",
              "        vertical-align: middle;\n",
              "    }\n",
              "\n",
              "    .dataframe tbody tr th {\n",
              "        vertical-align: top;\n",
              "    }\n",
              "\n",
              "    .dataframe thead th {\n",
              "        text-align: right;\n",
              "    }\n",
              "</style>\n",
              "<table border=\"1\" class=\"dataframe\">\n",
              "  <thead>\n",
              "    <tr style=\"text-align: right;\">\n",
              "      <th></th>\n",
              "      <th>State</th>\n",
              "      <th>dec_cases</th>\n",
              "    </tr>\n",
              "  </thead>\n",
              "  <tbody>\n",
              "    <tr>\n",
              "      <th>6</th>\n",
              "      <td>dd</td>\n",
              "      <td>0</td>\n",
              "    </tr>\n",
              "    <tr>\n",
              "      <th>27</th>\n",
              "      <td>un</td>\n",
              "      <td>0</td>\n",
              "    </tr>\n",
              "    <tr>\n",
              "      <th>18</th>\n",
              "      <td>mz</td>\n",
              "      <td>184</td>\n",
              "    </tr>\n",
              "  </tbody>\n",
              "</table>\n",
              "</div>"
            ],
            "text/plain": [
              "   State dec_cases\n",
              "6     dd         0\n",
              "27    un         0\n",
              "18    mz       184"
            ]
          },
          "metadata": {},
          "execution_count": 217
        }
      ]
    },
    {
      "cell_type": "markdown",
      "metadata": {
        "id": "QTpO2Old64OM"
      },
      "source": [
        "#Question 1.7"
      ]
    },
    {
      "cell_type": "code",
      "metadata": {
        "id": "VLs6fQkF7Y4B"
      },
      "source": [
        "Covid = pd.DataFrame(covid, columns=[\"date\",\"dateymd\",\"status\",\"tt\",\"an\",\"ap\",\"ar\",\"as\",\"br\",\"ch\",\"ct\",\"dd\",\"dl\",\"dn\",\"ga\",\"gj\",\"hp\",\"hr\",\"jh\",\"jk\",\"ka\",\"kl\",\"la\",\"ld\",\"mh\",\"ml\",\"mn\",\"mp\",\"mz\",\"nl\",\"or\",\"pb\",\"py\",\"rj\",\"sk\",\"tg\",\"tn\",\"tr\",\"un\",\"up\",\"ut\",\"wb\"])"
      ],
      "execution_count": 218,
      "outputs": []
    },
    {
      "cell_type": "code",
      "metadata": {
        "id": "oMNJrIcN7Y4a"
      },
      "source": [
        "Confi = Covid[(Covid['status'] == \"Confirmed\")]"
      ],
      "execution_count": 219,
      "outputs": []
    },
    {
      "cell_type": "code",
      "metadata": {
        "id": "ZpBoxi107Y4b"
      },
      "source": [
        "Confi = Confi.iloc[:,4:]"
      ],
      "execution_count": 220,
      "outputs": []
    },
    {
      "cell_type": "code",
      "metadata": {
        "id": "RBGxrCib7Y4b"
      },
      "source": [
        "temp_confirm = pd.DataFrame(columns = ['State','confirm_cases'])"
      ],
      "execution_count": 221,
      "outputs": []
    },
    {
      "cell_type": "code",
      "metadata": {
        "id": "GZFViSFV7Y4c"
      },
      "source": [
        "for (columnName, columnData) in Confi.iteritems():\n",
        "  state = columnName\n",
        "  con_cases = columnData.values.sum()\n",
        "  temp_confirm = temp_confirm.append({'State':state,'confirm_cases':con_cases},ignore_index = True)\n"
      ],
      "execution_count": 222,
      "outputs": []
    },
    {
      "cell_type": "code",
      "metadata": {
        "id": "pB3rYQHL7Y4d"
      },
      "source": [
        "Confi = Covid[(Covid['status'] == \"Recovered\")]"
      ],
      "execution_count": 223,
      "outputs": []
    },
    {
      "cell_type": "code",
      "metadata": {
        "id": "tJpchY5F7Y4d"
      },
      "source": [
        "Confi = Confi.iloc[:,4:]"
      ],
      "execution_count": 224,
      "outputs": []
    },
    {
      "cell_type": "code",
      "metadata": {
        "id": "ryhYApO_7oaU"
      },
      "source": [
        "temp_recov = pd.DataFrame(columns = ['State','recov_cases'])\n",
        "for (columnName, columnData) in Confi.iteritems():\n",
        "  state = columnName\n",
        "  con_cases = columnData.values.sum()\n",
        "  temp_recov = temp_recov.append({'State':state,'recov_cases':con_cases},ignore_index = True)\n"
      ],
      "execution_count": 225,
      "outputs": []
    },
    {
      "cell_type": "code",
      "metadata": {
        "id": "5d_wMT7h8Atm"
      },
      "source": [
        "Confi = Covid[(Covid['status'] == \"Deceased\")]\n",
        "Confi = Confi.iloc[:,4:]\n",
        "temp_desc = pd.DataFrame(columns = ['State','desc_cases'])\n",
        "for (columnName, columnData) in Confi.iteritems():\n",
        "  state = columnName\n",
        "  con_cases = columnData.values.sum()\n",
        "  temp_desc = temp_desc.append({'State':state,'desc_cases':con_cases},ignore_index = True)"
      ],
      "execution_count": 226,
      "outputs": []
    },
    {
      "cell_type": "code",
      "metadata": {
        "id": "pxAtvaKA7Y4e"
      },
      "source": [
        "active_df = pd.DataFrame(columns = ['State','Active_cases'])"
      ],
      "execution_count": 227,
      "outputs": []
    },
    {
      "cell_type": "code",
      "metadata": {
        "id": "24FZ-tcG7Y4f"
      },
      "source": [
        "i=0\n",
        "for (columnName, columnData) in Confi.iteritems():\n",
        "  state = columnName\n",
        "  confirm_cases = temp_confirm.iloc[i]['confirm_cases']\n",
        "  rec_cases = temp_recov.iloc[i]['recov_cases']\n",
        "  dec_cases = temp_desc.iloc[i]['desc_cases']\n",
        "  act_cases = confirm_cases - (rec_cases + dec_cases)\n",
        "  i=i+1\n",
        "  active_df = active_df.append({'State':state,'Active_cases':act_cases},ignore_index = True)"
      ],
      "execution_count": 228,
      "outputs": []
    },
    {
      "cell_type": "code",
      "metadata": {
        "colab": {
          "base_uri": "https://localhost:8080/",
          "height": 1000
        },
        "id": "JzfRf5Av7Y4f",
        "outputId": "2b033148-d1a5-4e7d-f1eb-7713e662a77b"
      },
      "source": [
        "active_df"
      ],
      "execution_count": 229,
      "outputs": [
        {
          "output_type": "execute_result",
          "data": {
            "text/html": [
              "<div>\n",
              "<style scoped>\n",
              "    .dataframe tbody tr th:only-of-type {\n",
              "        vertical-align: middle;\n",
              "    }\n",
              "\n",
              "    .dataframe tbody tr th {\n",
              "        vertical-align: top;\n",
              "    }\n",
              "\n",
              "    .dataframe thead th {\n",
              "        text-align: right;\n",
              "    }\n",
              "</style>\n",
              "<table border=\"1\" class=\"dataframe\">\n",
              "  <thead>\n",
              "    <tr style=\"text-align: right;\">\n",
              "      <th></th>\n",
              "      <th>State</th>\n",
              "      <th>Active_cases</th>\n",
              "    </tr>\n",
              "  </thead>\n",
              "  <tbody>\n",
              "    <tr>\n",
              "      <th>0</th>\n",
              "      <td>an</td>\n",
              "      <td>6</td>\n",
              "    </tr>\n",
              "    <tr>\n",
              "      <th>1</th>\n",
              "      <td>ap</td>\n",
              "      <td>17218</td>\n",
              "    </tr>\n",
              "    <tr>\n",
              "      <th>2</th>\n",
              "      <td>ar</td>\n",
              "      <td>1837</td>\n",
              "    </tr>\n",
              "    <tr>\n",
              "      <th>3</th>\n",
              "      <td>as</td>\n",
              "      <td>8947</td>\n",
              "    </tr>\n",
              "    <tr>\n",
              "      <th>4</th>\n",
              "      <td>br</td>\n",
              "      <td>213</td>\n",
              "    </tr>\n",
              "    <tr>\n",
              "      <th>5</th>\n",
              "      <td>ch</td>\n",
              "      <td>43</td>\n",
              "    </tr>\n",
              "    <tr>\n",
              "      <th>6</th>\n",
              "      <td>ct</td>\n",
              "      <td>1138</td>\n",
              "    </tr>\n",
              "    <tr>\n",
              "      <th>7</th>\n",
              "      <td>dd</td>\n",
              "      <td>0</td>\n",
              "    </tr>\n",
              "    <tr>\n",
              "      <th>8</th>\n",
              "      <td>dl</td>\n",
              "      <td>467</td>\n",
              "    </tr>\n",
              "    <tr>\n",
              "      <th>9</th>\n",
              "      <td>dn</td>\n",
              "      <td>-18</td>\n",
              "    </tr>\n",
              "    <tr>\n",
              "      <th>10</th>\n",
              "      <td>ga</td>\n",
              "      <td>873</td>\n",
              "    </tr>\n",
              "    <tr>\n",
              "      <th>11</th>\n",
              "      <td>gj</td>\n",
              "      <td>183</td>\n",
              "    </tr>\n",
              "    <tr>\n",
              "      <th>12</th>\n",
              "      <td>hp</td>\n",
              "      <td>2716</td>\n",
              "    </tr>\n",
              "    <tr>\n",
              "      <th>13</th>\n",
              "      <td>hr</td>\n",
              "      <td>667</td>\n",
              "    </tr>\n",
              "    <tr>\n",
              "      <th>14</th>\n",
              "      <td>jh</td>\n",
              "      <td>209</td>\n",
              "    </tr>\n",
              "    <tr>\n",
              "      <th>15</th>\n",
              "      <td>jk</td>\n",
              "      <td>1229</td>\n",
              "    </tr>\n",
              "    <tr>\n",
              "      <th>16</th>\n",
              "      <td>ka</td>\n",
              "      <td>22066</td>\n",
              "    </tr>\n",
              "    <tr>\n",
              "      <th>17</th>\n",
              "      <td>kl</td>\n",
              "      <td>172769</td>\n",
              "    </tr>\n",
              "    <tr>\n",
              "      <th>18</th>\n",
              "      <td>la</td>\n",
              "      <td>13</td>\n",
              "    </tr>\n",
              "    <tr>\n",
              "      <th>19</th>\n",
              "      <td>ld</td>\n",
              "      <td>79</td>\n",
              "    </tr>\n",
              "    <tr>\n",
              "      <th>20</th>\n",
              "      <td>mh</td>\n",
              "      <td>65923</td>\n",
              "    </tr>\n",
              "    <tr>\n",
              "      <th>21</th>\n",
              "      <td>ml</td>\n",
              "      <td>3852</td>\n",
              "    </tr>\n",
              "    <tr>\n",
              "      <th>22</th>\n",
              "      <td>mn</td>\n",
              "      <td>6263</td>\n",
              "    </tr>\n",
              "    <tr>\n",
              "      <th>23</th>\n",
              "      <td>mp</td>\n",
              "      <td>93</td>\n",
              "    </tr>\n",
              "    <tr>\n",
              "      <th>24</th>\n",
              "      <td>mz</td>\n",
              "      <td>8880</td>\n",
              "    </tr>\n",
              "    <tr>\n",
              "      <th>25</th>\n",
              "      <td>nl</td>\n",
              "      <td>1958</td>\n",
              "    </tr>\n",
              "    <tr>\n",
              "      <th>26</th>\n",
              "      <td>or</td>\n",
              "      <td>9020</td>\n",
              "    </tr>\n",
              "    <tr>\n",
              "      <th>27</th>\n",
              "      <td>pb</td>\n",
              "      <td>557</td>\n",
              "    </tr>\n",
              "    <tr>\n",
              "      <th>28</th>\n",
              "      <td>py</td>\n",
              "      <td>894</td>\n",
              "    </tr>\n",
              "    <tr>\n",
              "      <th>29</th>\n",
              "      <td>rj</td>\n",
              "      <td>180</td>\n",
              "    </tr>\n",
              "    <tr>\n",
              "      <th>30</th>\n",
              "      <td>sk</td>\n",
              "      <td>2360</td>\n",
              "    </tr>\n",
              "    <tr>\n",
              "      <th>31</th>\n",
              "      <td>tg</td>\n",
              "      <td>6583</td>\n",
              "    </tr>\n",
              "    <tr>\n",
              "      <th>32</th>\n",
              "      <td>tn</td>\n",
              "      <td>20370</td>\n",
              "    </tr>\n",
              "    <tr>\n",
              "      <th>33</th>\n",
              "      <td>tr</td>\n",
              "      <td>1601</td>\n",
              "    </tr>\n",
              "    <tr>\n",
              "      <th>34</th>\n",
              "      <td>un</td>\n",
              "      <td>0</td>\n",
              "    </tr>\n",
              "    <tr>\n",
              "      <th>35</th>\n",
              "      <td>up</td>\n",
              "      <td>419</td>\n",
              "    </tr>\n",
              "    <tr>\n",
              "      <th>36</th>\n",
              "      <td>ut</td>\n",
              "      <td>6391</td>\n",
              "    </tr>\n",
              "    <tr>\n",
              "      <th>37</th>\n",
              "      <td>wb</td>\n",
              "      <td>9832</td>\n",
              "    </tr>\n",
              "  </tbody>\n",
              "</table>\n",
              "</div>"
            ],
            "text/plain": [
              "   State Active_cases\n",
              "0     an            6\n",
              "1     ap        17218\n",
              "2     ar         1837\n",
              "3     as         8947\n",
              "4     br          213\n",
              "5     ch           43\n",
              "6     ct         1138\n",
              "7     dd            0\n",
              "8     dl          467\n",
              "9     dn          -18\n",
              "10    ga          873\n",
              "11    gj          183\n",
              "12    hp         2716\n",
              "13    hr          667\n",
              "14    jh          209\n",
              "15    jk         1229\n",
              "16    ka        22066\n",
              "17    kl       172769\n",
              "18    la           13\n",
              "19    ld           79\n",
              "20    mh        65923\n",
              "21    ml         3852\n",
              "22    mn         6263\n",
              "23    mp           93\n",
              "24    mz         8880\n",
              "25    nl         1958\n",
              "26    or         9020\n",
              "27    pb          557\n",
              "28    py          894\n",
              "29    rj          180\n",
              "30    sk         2360\n",
              "31    tg         6583\n",
              "32    tn        20370\n",
              "33    tr         1601\n",
              "34    un            0\n",
              "35    up          419\n",
              "36    ut         6391\n",
              "37    wb         9832"
            ]
          },
          "metadata": {},
          "execution_count": 229
        }
      ]
    },
    {
      "cell_type": "markdown",
      "metadata": {
        "id": "UDFwEzfySo_l"
      },
      "source": [
        "#Question 2.1"
      ]
    },
    {
      "cell_type": "code",
      "metadata": {
        "id": "QQE4pFLmgpJb",
        "colab": {
          "base_uri": "https://localhost:8080/",
          "height": 603
        },
        "outputId": "f1733aaf-bc7f-49e7-e885-8fb593ca2b8c"
      },
      "source": [
        "df = pd.DataFrame(columns = ['Confirmed','Recovered','Deceased'])\n",
        "con = list();\n",
        "Plotter = Covid.iloc[:,:4]\n",
        "idx = Plotter.index\n",
        "rows = len(idx)-2\n",
        "for i in range(0,rows,3):\n",
        "  confirm = Plotter.iloc[i]['tt']\n",
        "  recov = Plotter.iloc[i+1]['tt']\n",
        "  desc = Plotter.iloc[i+2]['tt']\n",
        "  array = [confirm, recov, deceas]\n",
        "  con.append(array)\n",
        "  \n",
        "df = pd.DataFrame(data=con, columns = ['Confirmed','Recovered','Deceased'], index=pd.date_range(start='2020/03/14', end='2021/08/16',\n",
        "                       freq='D'))\n",
        "                       \n",
        "df.plot.area(stacked=False,figsize=(10, 10));\n",
        "plt.show()"
      ],
      "execution_count": 230,
      "outputs": [
        {
          "output_type": "display_data",
          "data": {
            "image/png": "[encoded data removed]",
            "text/plain": [
              "<Figure size 720x720 with 1 Axes>"
            ]
          },
          "metadata": {
            "needs_background": "light"
          }
        }
      ]
    },
    {
      "cell_type": "markdown",
      "metadata": {
        "id": "ZeFZ2bi06GVp"
      },
      "source": [
        "#Question 2.2"
      ]
    },
    {
      "cell_type": "code",
      "metadata": {
        "colab": {
          "base_uri": "https://localhost:8080/",
          "height": 603
        },
        "id": "vfT9LE6i5Ewp",
        "outputId": "ef070751-4bed-49f7-d279-d42bc021fe2d"
      },
      "source": [
        "df = pd.DataFrame(columns = ['Confirmed','Recovered','Deceased'])\n",
        "Plotter = Covid\n",
        "con = list();\n",
        "idx = Plotter.index\n",
        "rows = len(idx)-2\n",
        "for i in range(0,rows,3):\n",
        "  confirm = Plotter.iloc[i]['dl']\n",
        "  recov = Plotter.iloc[i+1]['dl']\n",
        "  desc = Plotter.iloc[i+2]['dl']\n",
        "  array = [confirm, recov, deceas]\n",
        "  con.append(array)\n",
        "  \n",
        "df = pd.DataFrame(data=con, columns = ['Confirmed','Recovered','Deceased'], index=pd.date_range(start='2020/03/14', end='2021/08/16',\n",
        "                       freq='D'))\n",
        "                       \n",
        "df.plot.area(stacked=False,figsize=(10, 10));\n",
        "plt.show()"
      ],
      "execution_count": 231,
      "outputs": [
        {
          "output_type": "display_data",
          "data": {
            "image/png": "[encoded data removed]",
            "text/plain": [
              "<Figure size 720x720 with 1 Axes>"
            ]
          },
          "metadata": {
            "needs_background": "light"
          }
        }
      ]
    },
    {
      "cell_type": "markdown",
      "metadata": {
        "id": "bZt7UAqk-1E6"
      },
      "source": [
        "#Question 2.3"
      ]
    },
    {
      "cell_type": "code",
      "metadata": {
        "colab": {
          "base_uri": "https://localhost:8080/",
          "height": 614
        },
        "id": "nv56fg4b-45k",
        "outputId": "de61515d-76b2-4409-8d5d-4ee8527d59e5"
      },
      "source": [
        "\n",
        "Plotter = Covid\n",
        "con = []\n",
        "idx = Plotter.index\n",
        "rows = len(idx)-2\n",
        "for i in range(0,rows,3):\n",
        "  confirm = Plotter.iloc[i]['tt']\n",
        "  recov = Plotter.iloc[i+1]['tt']\n",
        "  desc = Plotter.iloc[i+2]['tt']\n",
        "  Active = confirm-(recov+desc)\n",
        "  if i>0:\n",
        "    Active = Active+con[-1]\n",
        "  con.append(Active)\n",
        "  \n",
        "df = pd.DataFrame(data=con, columns = ['Active'], index=pd.date_range(start='2020/03/14', end='2021/08/16',\n",
        "                       freq='D'))\n",
        "                       \n",
        "df.plot.area(stacked=False,figsize=(10, 10));\n",
        "plt.show()"
      ],
      "execution_count": 232,
      "outputs": [
        {
          "output_type": "display_data",
          "data": {
            "image/png": "[encoded data removed]",
            "text/plain": [
              "<Figure size 720x720 with 1 Axes>"
            ]
          },
          "metadata": {
            "needs_background": "light"
          }
        }
      ]
    },
    {
      "cell_type": "markdown",
      "metadata": {
        "id": "f7xqXiCnBGOe"
      },
      "source": [
        "#Question 2.4"
      ]
    },
    {
      "cell_type": "code",
      "metadata": {
        "colab": {
          "base_uri": "https://localhost:8080/",
          "height": 687
        },
        "id": "Liqxh9b3-5EA",
        "outputId": "cb3a43f5-c908-4e26-f0f9-fcc7423ac3e2"
      },
      "source": [
        "Plotter = Covid\n",
        "con = []\n",
        "idx = Plotter.index\n",
        "rows = len(idx)-2\n",
        "for i in range(0,rows,3):\n",
        "  confirm = Plotter.iloc[i]['dl']\n",
        "  recov = Plotter.iloc[i+1]['dl']\n",
        "  desc = Plotter.iloc[i+2]['dl']\n",
        "  Active = confirm-(recov+desc)\n",
        "  if i>0:\n",
        "    Active = Active+con[-1]\n",
        "  con.append(Active)\n",
        "  \n",
        "df = pd.DataFrame(data=con, columns = ['Active'], index=pd.date_range(start='2020/03/14', end='2021/08/16',\n",
        "                       freq='D'))\n",
        "                       \n",
        "df.plot.bar(stacked=True,figsize=(10, 10));\n"
      ],
      "execution_count": 233,
      "outputs": [
        {
          "output_type": "display_data",
          "data": {
            "image/png": "[encoded data removed]",
            "text/plain": [
              "<Figure size 720x720 with 1 Axes>"
            ]
          },
          "metadata": {
            "needs_background": "light"
          }
        }
      ]
    },
    {
      "cell_type": "code",
      "metadata": {
        "colab": {
          "base_uri": "https://localhost:8080/",
          "height": 687
        },
        "id": "1geb6Hq5-5Gx",
        "outputId": "927ecfec-c892-4688-86cd-b28cd57c5573"
      },
      "source": [
        "Plotter = Covid\n",
        "con = []\n",
        "idx = Plotter.index\n",
        "rows = len(idx)-2\n",
        "for i in range(0,rows,3):\n",
        "  confirm = Plotter.iloc[i]['tn']\n",
        "  recov = Plotter.iloc[i+1]['tn']\n",
        "  desc = Plotter.iloc[i+2]['tn']\n",
        "  Active = confirm-(recov+desc)\n",
        "  if i>0:\n",
        "    Active = Active+con[-1]\n",
        "  con.append(Active)\n",
        "  \n",
        "df = pd.DataFrame(data=con, columns = ['Active'], index=pd.date_range(start='2020/03/14', end='2021/08/16',\n",
        "                       freq='D'))\n",
        "                       \n",
        "df.plot.bar(stacked=True,figsize=(10, 10));"
      ],
      "execution_count": 234,
      "outputs": [
        {
          "output_type": "display_data",
          "data": {
            "image/png": "[encoded data removed]",
            "text/plain": [
              "<Figure size 720x720 with 1 Axes>"
            ]
          },
          "metadata": {
            "needs_background": "light"
          }
        }
      ]
    },
    {
      "cell_type": "code",
      "metadata": {
        "colab": {
          "base_uri": "https://localhost:8080/",
          "height": 687
        },
        "id": "vXsPxXOF-5KR",
        "outputId": "ffca529b-af8a-473f-abb3-0c38d3a108ab"
      },
      "source": [
        "Plotter = Covid\n",
        "con = []\n",
        "idx = Plotter.index\n",
        "rows = len(idx)-2\n",
        "for i in range(0,rows,3):\n",
        "  confirm = Plotter.iloc[i]['gj']\n",
        "  recov = Plotter.iloc[i+1]['gj']\n",
        "  desc = Plotter.iloc[i+2]['gj']\n",
        "  Active = confirm-(recov+desc)\n",
        "  if i>0:\n",
        "    Active = Active+con[-1]\n",
        "  con.append(Active)\n",
        "  \n",
        "df = pd.DataFrame(data=con, columns = ['Active'], index=pd.date_range(start='2020/03/14', end='2021/08/16',\n",
        "                       freq='D'))\n",
        "                       \n",
        "df.plot.bar(stacked=True,figsize=(10, 10));"
      ],
      "execution_count": 235,
      "outputs": [
        {
          "output_type": "display_data",
          "data": {
            "image/png": "[encoded data removed]",
            "text/plain": [
              "<Figure size 720x720 with 1 Axes>"
            ]
          },
          "metadata": {
            "needs_background": "light"
          }
        }
      ]
    },
    {
      "cell_type": "code",
      "metadata": {
        "id": "iVcTmCMh-5Qp"
      },
      "source": [
        ""
      ],
      "execution_count": 235,
      "outputs": []
    },
    {
      "cell_type": "code",
      "metadata": {
        "id": "LdNGtFi0-5Ux"
      },
      "source": [
        ""
      ],
      "execution_count": 235,
      "outputs": []
    },
    {
      "cell_type": "code",
      "metadata": {
        "id": "ltFPlNEi-5Yd"
      },
      "source": [
        ""
      ],
      "execution_count": 235,
      "outputs": []
    }
  ]
}